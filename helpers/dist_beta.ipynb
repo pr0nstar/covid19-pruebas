{
 "cells": [
  {
   "cell_type": "code",
   "execution_count": 1,
   "metadata": {},
   "outputs": [],
   "source": [
    "import numpy as np\n",
    "import matplotlib.pyplot as plt\n",
    "\n",
    "from scipy.stats import beta\n"
   ]
  },
  {
   "cell_type": "code",
   "execution_count": 2,
   "metadata": {},
   "outputs": [
    {
     "data": {
      "text/plain": [
       "(array(0.16666667), array(0.01984127), array(1.18321596), array(1.2))"
      ]
     },
     "execution_count": 2,
     "metadata": {},
     "output_type": "execute_result"
    }
   ],
   "source": [
    "# a, b = 4.726, 0.3151\n",
    "a, b = 1, 5\n",
    "beta.stats(a, b, moments='mvsk')"
   ]
  },
  {
   "cell_type": "code",
   "execution_count": 3,
   "metadata": {},
   "outputs": [
    {
     "data": {
      "text/plain": [
       "array([4.95995984, 4.8866669 , 4.81418925, 4.74252084, 4.67165561,\n",
       "       4.60158755, 4.53231064, 4.46381892, 4.39610643, 4.32916723,\n",
       "       4.26299541, 4.19758509, 4.13293041, 4.06902551, 4.00586459,\n",
       "       3.94344184, 3.88175149, 3.8207878 , 3.76054502, 3.70101746,\n",
       "       3.64219942, 3.58408526, 3.52666933, 3.46994602, 3.41390974,\n",
       "       3.35855491, 3.30387598, 3.24986744, 3.19652378, 3.14383953,\n",
       "       3.09180921, 3.04042741, 2.98968871, 2.93958772, 2.89011908,\n",
       "       2.84127743, 2.79305747, 2.7454539 , 2.69846143, 2.65207482,\n",
       "       2.60628883, 2.56109826, 2.51649793, 2.47248267, 2.42904734,\n",
       "       2.38618683, 2.34389604, 2.3021699 , 2.26100337, 2.22039141,\n",
       "       2.18032903, 2.14081124, 2.10183308, 2.06338963, 2.02547597,\n",
       "       1.9880872 , 1.95121846, 1.91486491, 1.87902173, 1.84368411,\n",
       "       1.80884728, 1.77450648, 1.74065699, 1.70729409, 1.67441311,\n",
       "       1.64200937, 1.61007823, 1.57861509, 1.54761534, 1.51707441,\n",
       "       1.48698775, 1.45735083, 1.42815915, 1.39940824, 1.37109362,\n",
       "       1.34321086, 1.31575555, 1.2887233 , 1.26210974, 1.23591052,\n",
       "       1.21012132, 1.18473785, 1.15975581, 1.13517096, 1.11097907,\n",
       "       1.08717592, 1.06375733, 1.04071913, 1.01805719, 0.99576737,\n",
       "       0.9738456 , 0.95228779, 0.93108989, 0.91024787, 0.88975773,\n",
       "       0.86961549, 0.84981718, 0.83035887, 0.81123664, 0.7924466 ])"
      ]
     },
     "execution_count": 3,
     "metadata": {},
     "output_type": "execute_result"
    },
    {
     "data": {
      "image/png": "[encoded data removed]",
      "text/plain": [
       "<Figure size 432x288 with 1 Axes>"
      ]
     },
     "metadata": {
      "needs_background": "light"
     },
     "output_type": "display_data"
    }
   ],
   "source": [
    "x = np.linspace(\n",
    "    beta.ppf(0.01, a, b),\n",
    "    beta.ppf(0.9, a, b),\n",
    "    100\n",
    ")\n",
    "plt.plot(x, beta.pdf(x, a, b))\n",
    "beta.pdf(x, a, b)"
   ]
  }
 ],
 "metadata": {
  "kernelspec": {
   "display_name": "Python 3",
   "language": "python",
   "name": "python3"
  },
  "language_info": {
   "codemirror_mode": {
    "name": "ipython",
    "version": 3
   },
   "file_extension": ".py",
   "mimetype": "text/x-python",
   "name": "python",
   "nbconvert_exporter": "python",
   "pygments_lexer": "ipython3",
   "version": "3.7.5"
  }
 },
 "nbformat": 4,
 "nbformat_minor": 2
}
