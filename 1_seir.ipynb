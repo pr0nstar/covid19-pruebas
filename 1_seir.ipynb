{
 "cells": [
  {
   "cell_type": "markdown",
   "metadata": {},
   "source": [
    "##### Modelo SEIR (Susceptibles, Expuestos, Infectados, Recuperados)"
   ]
  },
  {
   "cell_type": "code",
   "execution_count": 1,
   "metadata": {},
   "outputs": [],
   "source": [
    "import numpy as np\n",
    "import scipy\n",
    "import scipy.integrate\n",
    "\n",
    "def seir_model(SEIR, beta, sigma, gamma):\n",
    "    S, E, I, R = SEIR\n",
    "    \n",
    "    # Poblacion\n",
    "    N = S + E + I + R\n",
    "    \n",
    "    dS = - beta * S * I / N\n",
    "    dE = beta * S * I / N - sigma * E\n",
    "    dI = sigma * E - gamma * I\n",
    "    dR = gamma * I\n",
    "    \n",
    "    return [\n",
    "        dS, dE, dI, dR\n",
    "    ]"
   ]
  },
  {
   "cell_type": "markdown",
   "metadata": {},
   "source": [
    "Diferencias en los valores respecto a las razones de cambio:  \n",
    "    * `beta` es la razon de transmision  \n",
    "    * `sigma` es la razon de transicion de Expuesto a Infectado  \n",
    "    * `gamma` es la razon de transicion de Infectado a Recuperado (o aislado)  "
   ]
  },
  {
   "cell_type": "code",
   "execution_count": 2,
   "metadata": {},
   "outputs": [],
   "source": [
    "def run(SEIR, beta, sigma, gamma, days=1, step=0.1):\n",
    "    steps = np.arange(start=0, stop=days, step=step)\n",
    "    return scipy.integrate.solve_ivp(\n",
    "        lambda _, SEIR_t: seir_model(SEIR_t, beta, sigma, gamma),\n",
    "        y0 = SEIR,\n",
    "        t_eval = steps,\n",
    "        t_span = (0, days)\n",
    "    )"
   ]
  },
  {
   "cell_type": "markdown",
   "metadata": {},
   "source": [
    "Integramos el sistema de ecuaciones diferenciales en el intervalo [0, days)"
   ]
  },
  {
   "cell_type": "code",
   "execution_count": 3,
   "metadata": {},
   "outputs": [],
   "source": [
    "from matplotlib import pyplot\n",
    "\n",
    "def plot(x, *curves):\n",
    "    fig, ax = pyplot.subplots()\n",
    "    for curve in curves:\n",
    "        ax.plot(x[:len(curve)], curve)\n",
    "    "
   ]
  },
  {
   "cell_type": "code",
   "execution_count": 4,
   "metadata": {},
   "outputs": [],
   "source": [
    "R0 = 3.6\n",
    "periodo_incubacion = 5.2\n",
    "periodo_infeccioso = 12.4"
   ]
  },
  {
   "cell_type": "markdown",
   "metadata": {},
   "source": [
    "`Rt` es el numero reproductivo, representando el numero promedio de nuevas infecciones en el tiempo `t` por infectado.  \n",
    "Si `Rt` es < 1 la incidencia de nuevas enfermedades decrece, si es > 1 aumenta hasta alcanzar inmunidad de grupo.  \n",
    "`R0` es este numero antes de cualquier intervencion."
   ]
  },
  {
   "cell_type": "code",
   "execution_count": 5,
   "metadata": {},
   "outputs": [],
   "source": [
    "susceptibles_t0 = 11e6\n",
    "expuestos_t0 = 7\n",
    "infectados_t0 = 5\n",
    "dias_simulados = 48\n",
    "\n",
    "SEIR_t0 = (\n",
    "    susceptibles_t0,\n",
    "    expuestos_t0,\n",
    "    infectados_t0,\n",
    "    0\n",
    ")\n",
    "solution = run(\n",
    "    SEIR_t0,\n",
    "    beta = R0 / periodo_infeccioso,\n",
    "    sigma = 1 / periodo_incubacion,\n",
    "    gamma = 1 / periodo_infeccioso,\n",
    "    days = dias_simulados,\n",
    "    step = 1\n",
    ")"
   ]
  },
  {
   "cell_type": "code",
   "execution_count": 6,
   "metadata": {},
   "outputs": [
    {
     "data": {
      "image/png": "[encoded data removed]",
      "text/plain": [
       "<Figure size 432x288 with 1 Axes>"
      ]
     },
     "metadata": {
      "needs_background": "light"
     },
     "output_type": "display_data"
    }
   ],
   "source": [
    "import csv\n",
    "\n",
    "# https://github.com/mauforonda\n",
    "with open('./data/covid19-bolivia2/nacional.csv') as f:\n",
    "    csv_file = csv.reader(f)\n",
    "    data = [int(line[1]) for idx, line in enumerate(csv_file) if idx > 0]\n",
    "    \n",
    "plot(solution['t'], solution['y'][2], data)"
   ]
  }
 ],
 "metadata": {
  "kernelspec": {
   "display_name": "Python 3",
   "language": "python",
   "name": "python3"
  },
  "language_info": {
   "codemirror_mode": {
    "name": "ipython",
    "version": 3
   },
   "file_extension": ".py",
   "mimetype": "text/x-python",
   "name": "python",
   "nbconvert_exporter": "python",
   "pygments_lexer": "ipython3",
   "version": "3.7.5"
  }
 },
 "nbformat": 4,
 "nbformat_minor": 2
}
