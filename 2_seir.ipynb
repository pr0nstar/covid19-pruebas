{
 "cells": [
  {
   "cell_type": "markdown",
   "metadata": {},
   "source": [
    "##### Modelo SEIR (Susceptibles, Expuestos, Infecciosos, Recuperados) + Fallecidos"
   ]
  },
  {
   "cell_type": "code",
   "execution_count": null,
   "metadata": {},
   "outputs": [],
   "source": [
    "import numpy as np\n",
    "import scipy\n",
    "import scipy.integrate\n",
    "\n",
    "from utilidades import *\n",
    "\n",
    "def seir_model(SEIR, beta, sigma, gamma, mu):\n",
    "    S, E, I, R, F = SEIR\n",
    "\n",
    "    # Poblacion\n",
    "    N = S + E + I + R\n",
    "\n",
    "    # - Los susceptibles que pasan a expuestos a razon `beta` a partir de contacto con infectados\n",
    "    dS = - beta * S * I / N\n",
    "    # + Los susceptibles que pasan a expuestos a razon `beta` a partir de contacto con infectados\n",
    "    # - Los expuestos que pasan a infecciosos a razon `sigma`\n",
    "    dE = beta * S * I / N - sigma * E\n",
    "    # + Los expuestos que pasan a infecciosos a razon `sigma`\n",
    "    # - Los infecciosos que pasan a recuperados a razon `gamma`\n",
    "    # - Los infecciosos que pasan a fallecidos a razon `mu`\n",
    "    dI = sigma * E - gamma * I - mu * I\n",
    "    # + Los infecciosos que pasan a recuperados a razon `gamma`\n",
    "    dR = gamma * I\n",
    "    # + Los infecciosos no detectados que pasan a fallecidos a razon `mu`\n",
    "    dF = mu * I\n",
    "\n",
    "    return [\n",
    "        dS, dE, dI, dR, dF\n",
    "    ]"
   ]
  },
  {
   "cell_type": "markdown",
   "metadata": {},
   "source": [
    "Clases:\n",
    "    * Susceptible\n",
    "    * Expuesto\n",
    "    * Infeccioso\n",
    "    * Recuperado\n",
    "Nueva Clase:\n",
    "    * Fallecido\n",
    "    \n",
    "Parametros:  \n",
    "    * `beta` es la razon de transmision  \n",
    "    * `sigma` es la razon de transicion de Expuesto a Infeccioso  \n",
    "    * `gamma` es la razon de transicion de Infeccioso a Recuperado (o aislado)  \n",
    "Nuevos Parametros:  \n",
    "    * `mu` es la razon de transicion de Infeccioso a Fallecido\n"
   ]
  },
  {
   "cell_type": "code",
   "execution_count": null,
   "metadata": {},
   "outputs": [],
   "source": [
    "periodo_incubacion = 5.2\n",
    "periodo_infeccioso = 12.4\n",
    "razon_mortalidad = 6 / 100.0\n",
    "\n",
    "susceptibles_t0 = 11e6\n",
    "\n",
    "data = load_data()\n",
    "days = [12, len(data[0]) - 12]"
   ]
  },
  {
   "cell_type": "code",
   "execution_count": null,
   "metadata": {},
   "outputs": [],
   "source": [
    "import scipy.optimize\n",
    "\n",
    "def process_solution(solution):\n",
    "    infected = solution['y'][1] + solution['y'][2]\n",
    "    return {\n",
    "        't': solution['t'],\n",
    "        # base\n",
    "        'susceptible': solution['y'][0],\n",
    "        'exposed': solution['y'][1],\n",
    "        'infectious': solution['y'][2],\n",
    "        'recovered': solution['y'][3],\n",
    "        'death': solution['y'][4],\n",
    "        # +\n",
    "        'infected': infected,\n",
    "        'new_cases': np.diff(\n",
    "            infected, prepend=[infected[0]]\n",
    "        )\n",
    "    }\n",
    "\n",
    "def run_model(args):\n",
    "    infectados_t0, R_t0, R_t1 = args\n",
    "    \n",
    "    SEIR_t0 = (\n",
    "        susceptibles_t0,\n",
    "        infectados_t0 * R_t0,\n",
    "        infectados_t0,\n",
    "        0, 0\n",
    "    )\n",
    "    solution = run(\n",
    "        seir_model,\n",
    "        SEIR_t0,\n",
    "        beta = [R0 / periodo_infeccioso for R0 in (R_t0, R_t1)],\n",
    "        sigma = 1 / periodo_incubacion,\n",
    "        gamma = 1 / periodo_infeccioso,\n",
    "        mu = razon_mortalidad / periodo_infeccioso,\n",
    "        days = days,\n",
    "        step = 1\n",
    "    )\n",
    "    return process_solution(solution)\n",
    "\n",
    "def naive_fit():\n",
    "    def sqsum(R_ts):\n",
    "        solution = run_model(R_ts)\n",
    "        \n",
    "        return sum((solution['infected'] - data[0]) ** 2)\n",
    "    \n",
    "    return scipy.optimize.minimize(\n",
    "        sqsum, (5., 3., 3.), method='TNC', bounds=((5., 30.), (2.4, 4.2), (1.2, 3.2))\n",
    "    ).x\n",
    "\n",
    "\n",
    "R_ts_6 = naive_fit()\n",
    "solution_composed = run_model(R_ts_6)\n",
    "\n",
    "infectados_t0, R_t0, _ = R_ts_6\n",
    "solution_simple = run_model((infectados_t0, R_t0, R_t0))\n",
    "\n",
    "plot(\n",
    "    solution_composed['t'], \n",
    "    data[0], solution_composed['infected'], solution_simple['infected'],\n",
    "    labels=[\n",
    "        'Infectados', \n",
    "        'Infectados Proyectados C/Cuarentena (Rt=R1)', \n",
    "        'Infectados Proyectados S/Cuarentena (Rt=R0)',\n",
    "    ]\n",
    ")\n",
    "\n",
    "plot(\n",
    "    solution_composed['t'], \n",
    "    data[2], solution_composed['death'], solution_simple['death'],\n",
    "    labels=[\n",
    "        'Fallecidos',\n",
    "        'Fallecidos Proyectados C/Cuarentena (Rt=R1)',\n",
    "        'Fallecidos Proyectados S/Cuarentena (Rt=R0)'\n",
    "    ]\n",
    ")\n",
    "print('Infectados en tiempo 0: {}\\nR0: {}\\nR1: {}'.format(*R_ts_6))"
   ]
  },
  {
   "cell_type": "markdown",
   "metadata": {},
   "source": [
    "Para ajustar el modelo a los datos usamos una funcion que calcule la suma de las diferencias de los datos al cuadrado y buscamos los valores que minimicen esa diferencia.  \n",
    "El numero de infectados iniciales para el modelo no tiene mucho sentido al ser real y no entero pero se trabaja con lo que se tiene.  \n",
    "Los resultados todavia son demasiado altos."
   ]
  },
  {
   "cell_type": "markdown",
   "metadata": {},
   "source": [
    "La razon de mortalidad reportada por varios paises varia entre el 1% y el 4% (algunos paises reportan una razon < 1%).  \n",
    "<b>Como se comporta el modelo si ajustamos la cantidad de fallecidos  a ese rango?<b>"
   ]
  },
  {
   "cell_type": "code",
   "execution_count": null,
   "metadata": {},
   "outputs": [],
   "source": [
    "def naive_fit():\n",
    "    def sqsum(R_ts):\n",
    "        solution = run_model(R_ts)\n",
    "        return sum((solution['death'] - data[2]) ** 2)\n",
    "    \n",
    "    return scipy.optimize.minimize(\n",
    "        sqsum, (5., 3., 3.), method='TNC', bounds=((16., 75.), (2.4, 4.2), (1.2, 3.2))\n",
    "    ).x\n",
    "\n",
    "razon_mortalidad = 1 / 100.0\n",
    "R_ts_1 = naive_fit()\n",
    "\n",
    "razon_mortalidad = 4 / 100.0\n",
    "R_ts_4 = naive_fit()\n",
    "\n",
    "solution_1 = run_model(R_ts_1)\n",
    "solution_4 = run_model(R_ts_4)\n",
    "\n",
    "ax = plot(\n",
    "    solution_4['t'], \n",
    "    data[0], solution_4['infected'], solution_1['infected'],\n",
    "    labels = ['6%', '4%', '1%']\n",
    ")\n",
    "ax.fill_between(\n",
    "    solution_4['t'],\n",
    "    solution_1['infected'],\n",
    "    solution_4['infected'],\n",
    "    alpha=0.2\n",
    ")\n",
    "\n",
    "print('Mortalidad 1%\\nInfectados en tiempo 0: {}\\nR0: {}\\nR1: {}\\n\\n'.format(*R_ts_1))\n",
    "print('Mortalidad 4%\\nInfectados en tiempo 0: {}\\nR0: {}\\nR1: {}'.format(*R_ts_4))"
   ]
  },
  {
   "cell_type": "markdown",
   "metadata": {},
   "source": [
    "Aqui ajustamos el modelo a la curva de mortalidad y graficamos los infectados en el caso de mortalidad del 1% y el 4%.  \n",
    "Mortalidad del 1% suena algo irreal en este momento, ~ 30% de los fallecidos son de provincia y algunos no fueron diagnosticados hasta despues de fallecer."
   ]
  },
  {
   "cell_type": "code",
   "execution_count": null,
   "metadata": {},
   "outputs": [],
   "source": [
    "days[1] = len(data[0]) - days[0] + 7 * 2\n",
    "    \n",
    "solution_original = run_model(R_ts_6)\n",
    "solution_1 = run_model(R_ts_1)\n",
    "solution_4 = run_model(R_ts_4)\n",
    "\n",
    "ax = plot(\n",
    "    solution_original['t'], \n",
    "    solution_original['infected'], solution_4['infected'], solution_1['infected'],\n",
    "    labels = ['6%', '4%', '1%']\n",
    ")\n",
    "\n",
    "ax.fill_between(\n",
    "    solution_4['t'],\n",
    "    solution_1['infected'],\n",
    "    solution_4['infected'],\n",
    "    alpha=0.2,\n",
    ")\n",
    "_ = ax.axvline(len(data[0]))"
   ]
  },
  {
   "cell_type": "markdown",
   "metadata": {},
   "source": [
    "Proyeccion 14 dias, <b>mucho puede cambiar y la sensibilidad a los datos iniciales es muy alta.</b>  \n",
    "<b>Cuando se superarian los 120 infectados dia?</b>"
   ]
  },
  {
   "cell_type": "code",
   "execution_count": null,
   "metadata": {},
   "outputs": [],
   "source": [
    "print('Siguiendo la mortalidad del 6% el dia: {}'.format(\n",
    "    min(np.where(solution_original['new_cases'] > 120)[0])\n",
    "))\n",
    "print('Siguiendo la mortalidad del 4% el dia: {}'.format(\n",
    "    min(np.where(solution_4['new_cases'] > 120)[0])\n",
    "))\n",
    "print('Siguiendo la mortalidad del 1% el dia: {}'.format(\n",
    "    min(np.where(solution_1['new_cases'] > 120)[0])\n",
    "))"
   ]
  },
  {
   "cell_type": "markdown",
   "metadata": {},
   "source": [
    "Notas:\n",
    "* Sigue faltando fichar muchas de las cosas del primer notebook\n",
    "* No introduje la re-susceptibilidad :S\n",
    "\n",
    "Que hacer ahora?\n",
    "* Agregar razon de deteccion, y razon de infeccion de casos detectados\n",
    "* Hay datos sobre los contactos sospechosos/dia centralizado?"
   ]
  }
 ],
 "metadata": {
  "kernelspec": {
   "display_name": "Python 3",
   "language": "python",
   "name": "python3"
  },
  "language_info": {
   "codemirror_mode": {
    "name": "ipython",
    "version": 3
   },
   "file_extension": ".py",
   "mimetype": "text/x-python",
   "name": "python",
   "nbconvert_exporter": "python",
   "pygments_lexer": "ipython3",
   "version": "3.7.5"
  }
 },
 "nbformat": 4,
 "nbformat_minor": 2
}
